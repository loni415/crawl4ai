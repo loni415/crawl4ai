{
 "cells": [
  {
   "cell_type": "code",
   "execution_count": 9,
   "metadata": {},
   "outputs": [
    {
     "name": "stdout",
     "output_type": "stream",
     "text": [
      "Usage: crwl crawl [OPTIONS] URL\n",
      "\n",
      "  Crawl a website and extract content\n",
      "\n",
      "  Simple Usage:     crwl crawl https://example.com\n",
      "\n",
      "Options:\n",
      "  -B, --browser-config PATH       Browser config file (YAML/JSON)\n",
      "  -C, --crawler-config PATH       Crawler config file (YAML/JSON)\n",
      "  -f, --filter-config PATH        Content filter config file\n",
      "  -e, --extraction-config PATH    Extraction strategy config file\n",
      "  -s, --schema PATH               JSON schema for extraction\n",
      "  -b, --browser TEXT              Browser parameters as\n",
      "                                  key1=value1,key2=value2\n",
      "  -c, --crawler TEXT              Crawler parameters as\n",
      "                                  key1=value1,key2=value2\n",
      "  -o, --output [all|json|markdown|md|markdown-fit|md-fit]\n",
      "  --bypass-cache                  Bypass cache when crawling\n",
      "  -q, --question TEXT             Ask a question about the crawled content\n",
      "  -v, --verbose\n",
      "  -p, --profile TEXT              Use a specific browser profile (by name)\n",
      "  -h, --help                      Show this message and exit.\n",
      "\u001b[0m"
     ]
    }
   ],
   "source": [
    "!crwl crawl -h"
   ]
  },
  {
   "cell_type": "code",
   "execution_count": 10,
   "metadata": {},
   "outputs": [],
   "source": [
    "# Basic Crawl\n",
    "!crwl https://m.36kr.com/p/1724273999873 -o markdown > output.md -v"
   ]
  },
  {
   "cell_type": "code",
   "execution_count": 11,
   "metadata": {},
   "outputs": [],
   "source": [
    "!crwl https://www.seeherswim.com -o markdown > output.md -v"
   ]
  },
  {
   "cell_type": "code",
   "execution_count": 8,
   "metadata": {},
   "outputs": [
    {
     "name": "stdout",
     "output_type": "stream",
     "text": [
      "Usage: crwl crawl [OPTIONS] URL\n",
      "Try 'crwl crawl -h' for help.\n",
      "\n",
      "Error: No such option: --deep-crawl Did you mean --crawler?\n",
      "\u001b[0m"
     ]
    }
   ],
   "source": [
    "# Deep Crawl\n",
    "\n",
    "!crwl https://docs.crawl4ai.com --deep-crawl bfs --max-pages 10"
   ]
  },
  {
   "cell_type": "code",
   "execution_count": null,
   "metadata": {},
   "outputs": [],
   "source": [
    "# Ask a Question\n",
    "\n",
    "crwl https://www.example.com/products -q \"Extract all product prices\""
   ]
  }
 ],
 "metadata": {
  "kernelspec": {
   "display_name": "crawl4ai",
   "language": "python",
   "name": "python3"
  },
  "language_info": {
   "codemirror_mode": {
    "name": "ipython",
    "version": 3
   },
   "file_extension": ".py",
   "mimetype": "text/x-python",
   "name": "python",
   "nbconvert_exporter": "python",
   "pygments_lexer": "ipython3",
   "version": "3.12.9"
  }
 },
 "nbformat": 4,
 "nbformat_minor": 2
}
